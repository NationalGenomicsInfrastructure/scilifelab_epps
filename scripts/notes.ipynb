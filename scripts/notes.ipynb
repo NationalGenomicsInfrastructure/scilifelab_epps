{
 "cells": [
  {
   "cell_type": "code",
   "execution_count": null,
   "metadata": {},
   "outputs": [],
   "source": [
    "# Amplicon norm\n",
    "pid = \"24-879910\"\n",
    "lims = Lims(BASEURI, USERNAME, PASSWORD)\n",
    "currentStep = Process(lims, id=pid)"
   ]
  }
 ],
 "metadata": {
  "kernelspec": {
   "display_name": "Python 3.9.6 ('test')",
   "language": "python",
   "name": "python3"
  },
  "language_info": {
   "name": "python",
   "version": "3.9.6"
  },
  "orig_nbformat": 4,
  "vscode": {
   "interpreter": {
    "hash": "5906599eaf67be55c295a3449ac2319cd751ff56808c9050f932edc7fb957ee2"
   }
  }
 },
 "nbformat": 4,
 "nbformat_minor": 2
}
